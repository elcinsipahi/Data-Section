{
 "cells": [
  {
   "cell_type": "markdown",
   "metadata": {
    "collapsed": true
   },
   "source": [
    "## Cappadocia Venue Recommendation"
   ]
  },
  {
   "cell_type": "markdown",
   "metadata": {},
   "source": [
    "### Data Section"
   ]
  },
  {
   "cell_type": "markdown",
   "metadata": {},
   "source": [
    "The data used in study is provided by Foursquare location data. The data are grouped by landscape area. Data consists information about hotels, museums and restaurants which are visualized by maps. \n",
    "\n",
    "The following information are retrieved:\n",
    "\n",
    "Venue ID \n",
    "Venue Name \n",
    "Coordinates : Latitude and Longitude \n",
    "Category Name\n",
    "\n",
    "Cappadocia Göreme Top Venue Recommendations from FourSquare API (FourSquare website: www.foursquare.com)"
   ]
  },
  {
   "cell_type": "code",
   "execution_count": null,
   "metadata": {},
   "outputs": [],
   "source": []
  }
 ],
 "metadata": {
  "kernelspec": {
   "display_name": "Python 3.5",
   "language": "python",
   "name": "python3"
  },
  "language_info": {
   "codemirror_mode": {
    "name": "ipython",
    "version": 3
   },
   "file_extension": ".py",
   "mimetype": "text/x-python",
   "name": "python",
   "nbconvert_exporter": "python",
   "pygments_lexer": "ipython3",
   "version": "3.5.5"
  }
 },
 "nbformat": 4,
 "nbformat_minor": 1
}
